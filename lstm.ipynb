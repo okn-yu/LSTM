{
 "cells": [
  {
   "cell_type": "code",
   "execution_count": 3,
   "metadata": {},
   "outputs": [],
   "source": [
    "import torch\n",
    "import torch.nn as nn\n",
    "from torch.optim import SGD\n",
    "import math\n",
    "import numpy as np\n",
    "\n",
    "from matplotlib import pyplot as plt"
   ]
  },
  {
   "cell_type": "code",
   "execution_count": 62,
   "metadata": {},
   "outputs": [
    {
     "name": "stdout",
     "output_type": "stream",
     "text": [
      "cuda\n"
     ]
    }
   ],
   "source": [
    "device = torch.device('cuda' if torch.cuda.is_available() else 'cpu')\n",
    "print(device)"
   ]
  },
  {
   "cell_type": "markdown",
   "metadata": {},
   "source": [
    "# DataSet\n",
    "* Predict next value from noised sin curve.\n",
    "* input is noised sin curve (50 values).\n",
    "* gt is next value (1 value)."
   ]
  },
  {
   "cell_type": "code",
   "execution_count": 66,
   "metadata": {},
   "outputs": [],
   "source": [
    "import math\n",
    "import numpy as np\n",
    "\n",
    "def mkDataSet(data_size, data_length=50, freq=60., noise=0.02):\n",
    "    x = []\n",
    "    gt = []\n",
    "\n",
    "    for offset in range(data_size):\n",
    "        x.append([[math.sin(2 * math.pi * (offset + i) / freq) + np.random.normal(loc=0.0, scale=noise)] for i in range(data_length)])\n",
    "        gt.append([math.sin(2 * math.pi * (offset + data_length) / freq)])\n",
    "\n",
    "    return x, gt"
   ]
  },
  {
   "cell_type": "code",
   "execution_count": 136,
   "metadata": {},
   "outputs": [],
   "source": [
    "x, gt = mkDataSet(50)"
   ]
  },
  {
   "cell_type": "code",
   "execution_count": 143,
   "metadata": {},
   "outputs": [
    {
     "name": "stdout",
     "output_type": "stream",
     "text": [
      "len(x):  50 len(gt):  50\n",
      "len(x[0]):  50 len(gt[0]):  1\n"
     ]
    }
   ],
   "source": [
    "print('len(x): ', len(x), 'len(gt): ', len(gt))\n",
    "print('len(x[0]): ', len(x[0]), 'len(gt[0]): ', len(gt[0]))"
   ]
  },
  {
   "cell_type": "markdown",
   "metadata": {},
   "source": [
    "# Display DataSet\n",
    "* Predict next value from noised sin curve.\n",
    "* input is noised sin curve (50 values).\n",
    "* gt is next value (1 value)."
   ]
  },
  {
   "cell_type": "code",
   "execution_count": 144,
   "metadata": {},
   "outputs": [
    {
     "data": {
      "image/png": "[encoded data removed]",
      "text/plain": [
       "<Figure size 432x288 with 1 Axes>"
      ]
     },
     "metadata": {
      "needs_background": "light"
     },
     "output_type": "display_data"
    }
   ],
   "source": [
    "fig, ax = plt.subplots()\n",
    "\n",
    "# 1st batch.\n",
    "data_length =50\n",
    "_y = x[0]\n",
    "_x = [i for i in range(data_length)]\n",
    "\n",
    "gt0 = gt[0]\n",
    "ax.plot(_x, _y, color='green', label='x')\n",
    "ax.plot(_x[-1]+1, gt0, color='red', label='gt', marker='.')\n",
    "ax.legend(loc=0) \n",
    "\n",
    "plt.show()"
   ]
  },
  {
   "cell_type": "code",
   "execution_count": 145,
   "metadata": {},
   "outputs": [
    {
     "data": {
      "image/png": "[encoded data removed]",
      "text/plain": [
       "<Figure size 432x288 with 1 Axes>"
      ]
     },
     "metadata": {
      "needs_background": "light"
     },
     "output_type": "display_data"
    }
   ],
   "source": [
    "fig, ax = plt.subplots()\n",
    "\n",
    "# 10th batch.\n",
    "data_length =50\n",
    "_y = x[10]\n",
    "_x = [i for i in range(data_length)]\n",
    "\n",
    "gt0 = gt[10]\n",
    "ax.plot(_x, _y, color='green', label='x')\n",
    "ax.plot(_x[-1]+1, gt0, color='red', label='gt', marker='.')\n",
    "ax.legend(loc=0)\n",
    "\n",
    "plt.show()"
   ]
  },
  {
   "cell_type": "markdown",
   "metadata": {},
   "source": [
    "# LSTM Model\n",
    "* batch_first = True makes input format as [batch_size, time_sequence, emb_vec]"
   ]
  },
  {
   "cell_type": "code",
   "execution_count": 80,
   "metadata": {},
   "outputs": [],
   "source": [
    "import torch\n",
    "import torch.nn as nn\n",
    "\n",
    "class Predictor(nn.Module):\n",
    "    def __init__(self, inputDim, hiddenDim, outputDim):\n",
    "        super(Predictor, self).__init__()\n",
    "\n",
    "        self.rnn = nn.LSTM(input_size = inputDim, hidden_size = hiddenDim, batch_first = True)\n",
    "        self.output_layer = nn.Linear(hiddenDim, outputDim)\n",
    "    \n",
    "    def forward(self, inputs, hidden0=None):\n",
    "        output, (hidden, cell) = self.rnn(inputs, hidden0)\n",
    "        # use only final time_sequence\n",
    "        output = self.output_layer(output[:, -1, :])\n",
    "\n",
    "        return output"
   ]
  },
  {
   "cell_type": "markdown",
   "metadata": {},
   "source": [
    "# Training and Validation"
   ]
  },
  {
   "cell_type": "code",
   "execution_count": 103,
   "metadata": {},
   "outputs": [],
   "source": [
    "def mkRandomBatch(train_x, train_t, batch_size=10):\n",
    "    batch_x = []\n",
    "    batch_t = []\n",
    "\n",
    "    for _ in range(batch_size):\n",
    "        idx = np.random.randint(0, len(train_x) - 1)\n",
    "        batch_x.append(train_x[idx])\n",
    "        batch_t.append(train_t[idx])\n",
    "    \n",
    "    return torch.tensor(batch_x, device=device), torch.tensor(batch_t, device=device)\n",
    "\n",
    "def main():\n",
    "    training_size = 10000\n",
    "    test_size = 1000\n",
    "    epochs_num = 100\n",
    "    hidden_size = 5\n",
    "    batch_size = 100\n",
    "\n",
    "    train_x, train_t = mkDataSet(training_size)\n",
    "    test_x, test_t = mkDataSet(test_size)\n",
    "\n",
    "    model = Predictor(1, hidden_size, 1).to(device)\n",
    "    criterion = nn.MSELoss()\n",
    "    optimizer = SGD(model.parameters(), lr=0.01)\n",
    "\n",
    "    for epoch in range(epochs_num):\n",
    "        # training\n",
    "        running_loss = 0.0\n",
    "        training_accuracy = 0.0\n",
    "        for i in range(int(training_size / batch_size)):\n",
    "            optimizer.zero_grad()\n",
    "\n",
    "            data, label = mkRandomBatch(train_x, train_t, batch_size)\n",
    "            output = model(data)\n",
    "\n",
    "            loss = criterion(output, label)\n",
    "            loss.backward()\n",
    "            optimizer.step()\n",
    "\n",
    "            running_loss += loss.item()\n",
    "            training_accuracy += np.sum(np.abs((output.data - label.data).to('cpu').numpy()) < 0.1)\n",
    "\n",
    "        #test\n",
    "        test_accuracy = 0.0\n",
    "        for i in range(int(test_size / batch_size)):\n",
    "            offset = i * batch_size\n",
    "            data, label = torch.tensor(test_x[offset:offset+batch_size], device=device), torch.tensor(test_t[offset:offset+batch_size], device=device)\n",
    "            \n",
    "            output = model(data, None)\n",
    "            \n",
    "            test_accuracy += np.sum(np.abs((output.data - label.data).to('cpu').numpy()) < 0.1)\n",
    "        \n",
    "        training_accuracy /= training_size\n",
    "        test_accuracy /= test_size\n",
    "\n",
    "        print('%d loss: %.3f, training_accuracy: %.5f, test_accuracy: %.5f' % (\n",
    "            epoch + 1, running_loss, training_accuracy, test_accuracy))"
   ]
  },
  {
   "cell_type": "code",
   "execution_count": 104,
   "metadata": {},
   "outputs": [
    {
     "name": "stdout",
     "output_type": "stream",
     "text": [
      "1 loss: 40.253, training_accuracy: 0.06920, test_accuracy: 0.08500\n",
      "2 loss: 26.288, training_accuracy: 0.08450, test_accuracy: 0.10200\n",
      "3 loss: 14.803, training_accuracy: 0.10860, test_accuracy: 0.11900\n",
      "4 loss: 8.114, training_accuracy: 0.11230, test_accuracy: 0.12900\n",
      "5 loss: 5.648, training_accuracy: 0.11980, test_accuracy: 0.13100\n",
      "6 loss: 4.696, training_accuracy: 0.12420, test_accuracy: 0.13600\n",
      "7 loss: 4.245, training_accuracy: 0.14110, test_accuracy: 0.14700\n",
      "8 loss: 3.833, training_accuracy: 0.15400, test_accuracy: 0.15300\n",
      "9 loss: 3.538, training_accuracy: 0.15130, test_accuracy: 0.15500\n",
      "10 loss: 3.361, training_accuracy: 0.15400, test_accuracy: 0.16400\n",
      "11 loss: 3.149, training_accuracy: 0.16780, test_accuracy: 0.18100\n",
      "12 loss: 2.966, training_accuracy: 0.17670, test_accuracy: 0.18400\n",
      "13 loss: 2.823, training_accuracy: 0.17300, test_accuracy: 0.18200\n",
      "14 loss: 2.680, training_accuracy: 0.18860, test_accuracy: 0.19300\n",
      "15 loss: 2.543, training_accuracy: 0.19420, test_accuracy: 0.20600\n",
      "16 loss: 2.491, training_accuracy: 0.19880, test_accuracy: 0.20800\n",
      "17 loss: 2.350, training_accuracy: 0.20610, test_accuracy: 0.22100\n",
      "18 loss: 2.242, training_accuracy: 0.22060, test_accuracy: 0.22300\n",
      "19 loss: 2.153, training_accuracy: 0.24700, test_accuracy: 0.25800\n",
      "20 loss: 2.125, training_accuracy: 0.25200, test_accuracy: 0.25100\n",
      "21 loss: 2.044, training_accuracy: 0.26530, test_accuracy: 0.27800\n",
      "22 loss: 1.946, training_accuracy: 0.28460, test_accuracy: 0.29100\n",
      "23 loss: 1.934, training_accuracy: 0.27250, test_accuracy: 0.30300\n",
      "24 loss: 1.862, training_accuracy: 0.31520, test_accuracy: 0.32500\n",
      "25 loss: 1.818, training_accuracy: 0.31440, test_accuracy: 0.33000\n",
      "26 loss: 1.792, training_accuracy: 0.31490, test_accuracy: 0.31900\n",
      "27 loss: 1.723, training_accuracy: 0.33690, test_accuracy: 0.37300\n",
      "28 loss: 1.701, training_accuracy: 0.36290, test_accuracy: 0.36900\n",
      "29 loss: 1.641, training_accuracy: 0.37540, test_accuracy: 0.38400\n",
      "30 loss: 1.617, training_accuracy: 0.38820, test_accuracy: 0.39100\n",
      "31 loss: 1.576, training_accuracy: 0.39690, test_accuracy: 0.41600\n",
      "32 loss: 1.531, training_accuracy: 0.42240, test_accuracy: 0.45100\n",
      "33 loss: 1.496, training_accuracy: 0.44340, test_accuracy: 0.46400\n",
      "34 loss: 1.458, training_accuracy: 0.44750, test_accuracy: 0.46500\n",
      "35 loss: 1.451, training_accuracy: 0.44680, test_accuracy: 0.47000\n",
      "36 loss: 1.405, training_accuracy: 0.46080, test_accuracy: 0.49300\n",
      "37 loss: 1.382, training_accuracy: 0.47710, test_accuracy: 0.48400\n",
      "38 loss: 1.368, training_accuracy: 0.47370, test_accuracy: 0.48700\n",
      "39 loss: 1.342, training_accuracy: 0.47780, test_accuracy: 0.50300\n",
      "40 loss: 1.325, training_accuracy: 0.48750, test_accuracy: 0.52200\n",
      "41 loss: 1.288, training_accuracy: 0.50050, test_accuracy: 0.52600\n",
      "42 loss: 1.257, training_accuracy: 0.51100, test_accuracy: 0.52200\n",
      "43 loss: 1.220, training_accuracy: 0.52820, test_accuracy: 0.53200\n",
      "44 loss: 1.212, training_accuracy: 0.53490, test_accuracy: 0.53900\n",
      "45 loss: 1.198, training_accuracy: 0.53540, test_accuracy: 0.54800\n",
      "46 loss: 1.175, training_accuracy: 0.54290, test_accuracy: 0.55200\n",
      "47 loss: 1.153, training_accuracy: 0.54550, test_accuracy: 0.56100\n",
      "48 loss: 1.140, training_accuracy: 0.55090, test_accuracy: 0.56600\n",
      "49 loss: 1.121, training_accuracy: 0.55630, test_accuracy: 0.56800\n",
      "50 loss: 1.099, training_accuracy: 0.57000, test_accuracy: 0.57400\n",
      "51 loss: 1.082, training_accuracy: 0.57430, test_accuracy: 0.58000\n",
      "52 loss: 1.058, training_accuracy: 0.57480, test_accuracy: 0.58600\n",
      "53 loss: 1.033, training_accuracy: 0.58900, test_accuracy: 0.59500\n",
      "54 loss: 1.026, training_accuracy: 0.59270, test_accuracy: 0.60300\n",
      "55 loss: 0.997, training_accuracy: 0.60230, test_accuracy: 0.60700\n",
      "56 loss: 0.975, training_accuracy: 0.61810, test_accuracy: 0.60500\n",
      "57 loss: 0.969, training_accuracy: 0.61290, test_accuracy: 0.61500\n",
      "58 loss: 0.953, training_accuracy: 0.61560, test_accuracy: 0.62000\n",
      "59 loss: 0.940, training_accuracy: 0.62880, test_accuracy: 0.62800\n",
      "60 loss: 0.912, training_accuracy: 0.63760, test_accuracy: 0.63300\n",
      "61 loss: 0.896, training_accuracy: 0.64020, test_accuracy: 0.64000\n",
      "62 loss: 0.885, training_accuracy: 0.64650, test_accuracy: 0.64700\n",
      "63 loss: 0.875, training_accuracy: 0.64710, test_accuracy: 0.65600\n",
      "64 loss: 0.855, training_accuracy: 0.65910, test_accuracy: 0.65100\n",
      "65 loss: 0.850, training_accuracy: 0.66000, test_accuracy: 0.66600\n",
      "66 loss: 0.825, training_accuracy: 0.67210, test_accuracy: 0.67300\n",
      "67 loss: 0.804, training_accuracy: 0.68120, test_accuracy: 0.67500\n",
      "68 loss: 0.795, training_accuracy: 0.68000, test_accuracy: 0.68600\n",
      "69 loss: 0.772, training_accuracy: 0.69870, test_accuracy: 0.68800\n",
      "70 loss: 0.755, training_accuracy: 0.70550, test_accuracy: 0.70500\n",
      "71 loss: 0.747, training_accuracy: 0.70730, test_accuracy: 0.71800\n",
      "72 loss: 0.715, training_accuracy: 0.72900, test_accuracy: 0.72500\n",
      "73 loss: 0.704, training_accuracy: 0.73710, test_accuracy: 0.73500\n",
      "74 loss: 0.693, training_accuracy: 0.73750, test_accuracy: 0.73900\n",
      "75 loss: 0.681, training_accuracy: 0.74920, test_accuracy: 0.75200\n",
      "76 loss: 0.662, training_accuracy: 0.76270, test_accuracy: 0.75600\n",
      "77 loss: 0.638, training_accuracy: 0.77670, test_accuracy: 0.76700\n",
      "78 loss: 0.632, training_accuracy: 0.78130, test_accuracy: 0.78300\n",
      "79 loss: 0.603, training_accuracy: 0.79330, test_accuracy: 0.79300\n",
      "80 loss: 0.592, training_accuracy: 0.80550, test_accuracy: 0.80600\n",
      "81 loss: 0.574, training_accuracy: 0.81630, test_accuracy: 0.82300\n",
      "82 loss: 0.567, training_accuracy: 0.81900, test_accuracy: 0.83000\n",
      "83 loss: 0.552, training_accuracy: 0.83820, test_accuracy: 0.84100\n",
      "84 loss: 0.534, training_accuracy: 0.84660, test_accuracy: 0.85800\n",
      "85 loss: 0.516, training_accuracy: 0.86120, test_accuracy: 0.87600\n",
      "86 loss: 0.489, training_accuracy: 0.87990, test_accuracy: 0.89000\n",
      "87 loss: 0.476, training_accuracy: 0.88470, test_accuracy: 0.89800\n",
      "88 loss: 0.455, training_accuracy: 0.90020, test_accuracy: 0.90500\n",
      "89 loss: 0.439, training_accuracy: 0.90610, test_accuracy: 0.91300\n",
      "90 loss: 0.414, training_accuracy: 0.92620, test_accuracy: 0.92600\n",
      "91 loss: 0.403, training_accuracy: 0.93270, test_accuracy: 0.93800\n",
      "92 loss: 0.384, training_accuracy: 0.94680, test_accuracy: 0.94200\n",
      "93 loss: 0.373, training_accuracy: 0.95210, test_accuracy: 0.95200\n",
      "94 loss: 0.350, training_accuracy: 0.96430, test_accuracy: 0.96100\n",
      "95 loss: 0.332, training_accuracy: 0.96700, test_accuracy: 0.96700\n",
      "96 loss: 0.312, training_accuracy: 0.97310, test_accuracy: 0.96800\n",
      "97 loss: 0.295, training_accuracy: 0.97940, test_accuracy: 0.97100\n",
      "98 loss: 0.281, training_accuracy: 0.98450, test_accuracy: 0.97500\n",
      "99 loss: 0.270, training_accuracy: 0.98610, test_accuracy: 0.97800\n",
      "100 loss: 0.258, training_accuracy: 0.98840, test_accuracy: 0.98000\n"
     ]
    }
   ],
   "source": [
    "main()"
   ]
  }
 ],
 "metadata": {
  "kernelspec": {
   "display_name": "Python 3",
   "language": "python",
   "name": "python3"
  },
  "language_info": {
   "codemirror_mode": {
    "name": "ipython",
    "version": 3
   },
   "file_extension": ".py",
   "mimetype": "text/x-python",
   "name": "python",
   "nbconvert_exporter": "python",
   "pygments_lexer": "ipython3",
   "version": "3.6.9"
  }
 },
 "nbformat": 4,
 "nbformat_minor": 2
}
